{
  "nbformat": 4,
  "nbformat_minor": 0,
  "metadata": {
    "colab": {
      "name": "DAlab1.ipynb",
      "provenance": [],
      "collapsed_sections": []
    },
    "kernelspec": {
      "name": "python3",
      "display_name": "Python 3"
    },
    "language_info": {
      "name": "python"
    }
  },
  "cells": [
    {
      "cell_type": "markdown",
      "metadata": {
        "id": "vj7ArU2jT9qK"
      },
      "source": [
        "# Лінійна регресія (1D)"
      ]
    },
    {
      "cell_type": "code",
      "metadata": {
        "id": "bEp9_pX1TCuP"
      },
      "source": [
        "import numpy as np\n",
        "import matplotlib.pyplot as plt"
      ],
      "execution_count": 163,
      "outputs": []
    },
    {
      "cell_type": "code",
      "metadata": {
        "id": "a-gqLSjWnHWJ"
      },
      "source": [
        "def train_test_split(X, Y, test_size):\n",
        "    arr_rand = np.random.rand(X.shape[0])\n",
        "    split = arr_rand < np.percentile(arr_rand, int(100 * (1 - test_size)))\n",
        "\n",
        "    x_train = X[split]\n",
        "    y_train = Y[split]\n",
        "    x_test =  X[~split]\n",
        "    y_test = Y[~split]\n",
        "\n",
        "    return x_train, y_train, x_test, y_test"
      ],
      "execution_count": 164,
      "outputs": []
    },
    {
      "cell_type": "markdown",
      "metadata": {
        "id": "dB5FptEzTmtl"
      },
      "source": [
        "Згенеруйте синтетичний набір точок виду y = ax + b + noise.\n",
        "\n",
        "Візуалізуйте результат за допомогою (matplotlib)."
      ]
    },
    {
      "cell_type": "code",
      "metadata": {
        "colab": {
          "base_uri": "https://localhost:8080/",
          "height": 265
        },
        "id": "YXl8YpcDTGnu",
        "outputId": "0885fc3e-f767-4668-e93c-7e3a0deedc11"
      },
      "source": [
        "a = 1.11\n",
        "b = 0.75\n",
        "\n",
        "X = np.linspace(0, 1, 101)\n",
        "Y = a * X + b + np.random.normal(0, 0.1, X.shape[0])\n",
        "\n",
        "plt.scatter(X, Y, marker = '.', color = 'g')\n",
        "plt.plot(X, a * X + b)\n",
        "plt.show()"
      ],
      "execution_count": 165,
      "outputs": [
        {
          "output_type": "display_data",
          "data": {
            "image/png": "[encoded data removed]",
            "text/plain": [
              "<Figure size 432x288 with 1 Axes>"
            ]
          },
          "metadata": {
            "needs_background": "light"
          }
        }
      ]
    },
    {
      "cell_type": "markdown",
      "metadata": {
        "id": "i-oFvdgsTuNV"
      },
      "source": [
        "Вирішіть задачу лінійної регресії для такого набору точок.\n",
        "\n",
        "Параметри моделі знайдіть за допомогою градієнтного спуску."
      ]
    },
    {
      "cell_type": "code",
      "metadata": {
        "id": "JosrKG9ITIXy"
      },
      "source": [
        "def gradient_descent(x, y, learning_rate):\n",
        "    a, b = 0, 0\n",
        "    \n",
        "    for _ in range(1000):\n",
        "        y_ = a * x + b\n",
        "        error = y - y_\n",
        "\n",
        "        a -= learning_rate * (-2 * (x * error).mean())\n",
        "        b -= learning_rate * (-2 * error.mean())\n",
        "    \n",
        "    print(a, b)\n",
        "    return a, b"
      ],
      "execution_count": 166,
      "outputs": []
    },
    {
      "cell_type": "markdown",
      "metadata": {
        "id": "YrBzzr_7TxTC"
      },
      "source": [
        "Порівняйте знайдені\n",
        "параметри із значеннями (a, b)."
      ]
    },
    {
      "cell_type": "code",
      "metadata": {
        "colab": {
          "base_uri": "https://localhost:8080/"
        },
        "id": "N-ScqD0gTMKJ",
        "outputId": "2110698e-d3bd-40eb-c6fb-1fbce370a797"
      },
      "source": [
        "x_train, y_train, x_test, y_test = train_test_split(X, Y, test_size = 0.33)\n",
        "\n",
        "a_, b_ = gradient_descent(x_train, y_train, learning_rate = 0.1)"
      ],
      "execution_count": 167,
      "outputs": [
        {
          "output_type": "stream",
          "name": "stdout",
          "text": [
            "1.0729732838271506 0.7768411135270052\n"
          ]
        }
      ]
    },
    {
      "cell_type": "markdown",
      "metadata": {
        "id": "MFLy0SyKUBte"
      },
      "source": [
        "# Логістична регресія (2D)"
      ]
    },
    {
      "cell_type": "markdown",
      "metadata": {
        "id": "qHbaKlBxUHJh"
      },
      "source": [
        "Згенеруйте два синтетичних набори точок на площині, додайте їм мітки класів (0 і 1).\n",
        "\n",
        "Візуалізуйте результат за допомогою (matplotlib)."
      ]
    },
    {
      "cell_type": "code",
      "metadata": {
        "colab": {
          "base_uri": "https://localhost:8080/",
          "height": 265
        },
        "id": "UJ7RmmnYUC3f",
        "outputId": "78318a8c-4a3a-408e-f902-4f7b1d417f42"
      },
      "source": [
        "mean_1 = [1, 2]\n",
        "cov_1 = [[1, 0], [0, 1]]\n",
        "x_1 = np.random.multivariate_normal(mean_1, cov_1, 100)\n",
        "\n",
        "mean_2 = [4, 5]\n",
        "cov_2 = [[2, 0], [0, 2]]\n",
        "x_2 = np.random.multivariate_normal(mean_2, cov_2, 100)\n",
        "\n",
        "plt.scatter(x_1[:, 0], x_1[:, 1], marker = '^', color='coral')\n",
        "plt.scatter(x_2[:, 0], x_2[:, 1], marker = 'o', color='indigo')\n",
        "plt.show()"
      ],
      "execution_count": 168,
      "outputs": [
        {
          "output_type": "display_data",
          "data": {
            "image/png": "[encoded data removed]",
            "text/plain": [
              "<Figure size 432x288 with 1 Axes>"
            ]
          },
          "metadata": {
            "needs_background": "light"
          }
        }
      ]
    },
    {
      "cell_type": "code",
      "metadata": {
        "id": "CgtGDbz7U5jN"
      },
      "source": [
        "x = np.concatenate([x_1, x_2])\n",
        "labels = np.array([0] * 100 + [1] * 100)\n",
        "\n",
        "x_train, labels_train, x_test, labels_test = train_test_split(x, labels, test_size = 0.33)"
      ],
      "execution_count": 169,
      "outputs": []
    },
    {
      "cell_type": "markdown",
      "metadata": {
        "id": "2yvcxLuCULtX"
      },
      "source": [
        "Розділіть дані на класи за допомогою\n",
        "логістичної регресії."
      ]
    },
    {
      "cell_type": "code",
      "metadata": {
        "id": "g1xu7cfvkQtF"
      },
      "source": [
        "class LogisticRegression:\n",
        "    def __init__(self, max_iter):\n",
        "        self.i = max_iter\n",
        "\n",
        "    def sigmoid(self, z):\n",
        "        return 1 / (1 + np.exp(-z))\n",
        "\n",
        "    def normalize(self, x):  \n",
        "        return (x - x.mean()) / x.std()\n",
        "\n",
        "    def fit(self, x, y, learning_rate):\n",
        "        m, n = x.shape\n",
        "\n",
        "        w = np.zeros((n, 1))\n",
        "        b = 0\n",
        "\n",
        "        x = self.normalize(x)\n",
        "        y = y.reshape(m, 1)\n",
        "\n",
        "        for _ in range(self.i):\n",
        "            y_ = self.sigmoid(np.dot(x, w) + b)\n",
        "            w -= learning_rate * np.dot(x.T,  y_ - y) / m\n",
        "            b -= learning_rate * np.sum(y_ - y) / m\n",
        "\n",
        "        self.w = w\n",
        "        self.b = b\n",
        "\n",
        "    def predict(self, x):\n",
        "        x = self.normalize(x)\n",
        "        predictions = sigmoid(np.dot(x, self.w) + self.b)\n",
        "\n",
        "        self.p = np.array([1 if i > 0.5 else 0 for i in predictions])\n",
        "\n",
        "    def accuracy(self, y):\n",
        "        self.a = np.sum(y == self.p) / len(y)"
      ],
      "execution_count": 170,
      "outputs": []
    },
    {
      "cell_type": "code",
      "metadata": {
        "id": "fhSj9UZof95H"
      },
      "source": [
        "model = LogisticRegression(max_iter = 1000)\n",
        "model.fit(x_train, labels_train, learning_rate = 0.01)\n",
        "model.predict(x_test)\n",
        "model.accuracy(labels_test)"
      ],
      "execution_count": 171,
      "outputs": []
    },
    {
      "cell_type": "markdown",
      "metadata": {
        "id": "M5o8LnauUOfg"
      },
      "source": [
        "Перевірте якість алгоритма за допомогою метрики accuracy (на\n",
        "тестових даних)."
      ]
    },
    {
      "cell_type": "code",
      "metadata": {
        "colab": {
          "base_uri": "https://localhost:8080/"
        },
        "id": "aafXeELImWau",
        "outputId": "bccfe52f-7a63-44a6-9e34-0848f329d93f"
      },
      "source": [
        "model.a"
      ],
      "execution_count": 172,
      "outputs": [
        {
          "output_type": "execute_result",
          "data": {
            "text/plain": [
              "0.9696969696969697"
            ]
          },
          "metadata": {},
          "execution_count": 172
        }
      ]
    }
  ]
}